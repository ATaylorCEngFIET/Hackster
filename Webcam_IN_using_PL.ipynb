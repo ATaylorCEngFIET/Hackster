{
 "cells": [
  {
   "cell_type": "code",
   "execution_count": 1,
   "metadata": {},
   "outputs": [
    {
     "data": {
      "application/javascript": [
       "\n",
       "require(['notebook/js/codecell'], function(codecell) {\n",
       "  codecell.CodeCell.options_default.highlight_modes[\n",
       "      'magic_text/x-csrc'] = {'reg':[/^%%microblaze/]};\n",
       "  Jupyter.notebook.events.one('kernel_ready.Kernel', function(){\n",
       "      Jupyter.notebook.get_cells().map(function(cell){\n",
       "          if (cell.cell_type == 'code'){ cell.auto_highlight(); } }) ;\n",
       "  });\n",
       "});\n"
      ]
     },
     "metadata": {},
     "output_type": "display_data"
    }
   ],
   "source": [
    "#from pynq import Overlay\n",
    "#Overlay(\"base.bit\").download()\n",
    "\n",
    "from pynq.overlays.bare_hdmi import BareHDMIOverlay\n",
    "base = BareHDMIOverlay(\"/home/xilinx/pynq/overlays/computer_vision/\"\n",
    "                       \"xv2Filter2DDilate.bit\")\n",
    "from pynq import Xlnk\n",
    "mem_manager = Xlnk()\n",
    "import pynq.overlays.computer_vision.xv2Filter2DDilate as xv2\n",
    "\n",
    "#from pynq import Overlay\n",
    "from pynq.lib.video import *\n",
    "\n",
    "#base = Overlay('base.bit')\n",
    "#hdmi_in = base.video.hdmi_in\n",
    "hdmi_out = base.video.hdmi_out\n",
    "\n",
    "Mode = VideoMode(640,480,24)\n",
    "hdmi_out = base.video.hdmi_out\n",
    "hdmi_out.configure(Mode,PIXEL_BGR)\n",
    "hdmi_out.start()\n",
    "\n",
    "# monitor (output) frame buffer size\n",
    "frame_out_w = 1920\n",
    "frame_out_h = 1080\n",
    "# camera (input) configuration\n",
    "frame_in_w = 640\n",
    "frame_in_h = 480"
   ]
  },
  {
   "cell_type": "code",
   "execution_count": 2,
   "metadata": {},
   "outputs": [
    {
     "name": "stdout",
     "output_type": "stream",
     "text": [
      "capture device is open: True\n"
     ]
    }
   ],
   "source": [
    "\n",
    "import cv2\n",
    "import numpy as np\n",
    "\n",
    "videoIn = cv2.VideoCapture(0)\n",
    "videoIn.set(cv2.CAP_PROP_FRAME_WIDTH, frame_in_w);\n",
    "videoIn.set(cv2.CAP_PROP_FRAME_HEIGHT, frame_in_h);\n",
    "\n",
    "print(\"capture device is open: \" + str(videoIn.isOpened()))\n",
    "#frame_1080p = np.zeros((1080,1920,3)).astype(np.uint8)\n",
    "ret, reference = videoIn.read()\n",
    "reference_grey = cv2.cvtColor(reference, cv2.COLOR_BGR2GRAY)\n",
    "reference_blur = cv2.GaussianBlur(reference_grey, (5, 5), 0)\n",
    "\n",
    "#frame_1080p[0:480,0:640,:] = reference[0:480,0:640,:]\n",
    "#hdmi_out.writeframe(frame_1080p.astype(np.int8))"
   ]
  },
  {
   "cell_type": "code",
   "execution_count": 3,
   "metadata": {},
   "outputs": [
    {
     "name": "stdout",
     "output_type": "stream",
     "text": [
      "Frames per second:  10.499496622675153\n"
     ]
    }
   ],
   "source": [
    "import numpy as np\n",
    "\n",
    "kernelVoid = np.zeros(0)\n",
    "dilated = np.ndarray(shape=(hdmi_out.mode.height, hdmi_out.mode.width),dtype=np.uint8)\n",
    "blur = np.ndarray(shape=(hdmi_out.mode.height, hdmi_out.mode.width),dtype=np.uint8)\n",
    "kernel_g =  np.array([[0.0625,0.125,0.0625],[0.125,0.25,0.125],[0.0625,0.125,0.0625]],np.float32)\n",
    "\n",
    "outframe = hdmi_out.newframe()\n",
    "numframes = 200    \n",
    "start = time.time()    \n",
    "for _ in range(numframes):\n",
    "    ret, frame_vga = videoIn.read()\n",
    "\n",
    "    if (ret):\n",
    "       \n",
    "        grey = cv2.cvtColor(frame_vga, cv2.COLOR_BGR2GRAY)\n",
    "        xv2.filter2D(grey, -1, kernel_g, blur,(-1,-1), 0.0, borderType=cv2.BORDER_CONSTANT)\n",
    "        #blur = cv2.GaussianBlur(grey, (5, 5), 0)\n",
    "        difference = cv2.absdiff(reference_blur, blur)\n",
    "        threshold = cv2.threshold(difference, 25, 255, cv2.THRESH_BINARY)[1]\n",
    "        #dilated = cv2.dilate(threshold, None, iterations=2)\n",
    "        xv2.dilate(threshold, kernelVoid, dst=dilated, iterations=1, borderType=cv2.BORDER_CONSTANT)\n",
    "        _, contours, hier = cv2.findContours(dilated.copy(), cv2.RETR_EXTERNAL, cv2.CHAIN_APPROX_SIMPLE)\n",
    "        for i in contours:\n",
    "            if cv2.contourArea(i) < 2000:\n",
    "                continue\n",
    "            (x, y, w, h) = cv2.boundingRect(i)\n",
    "           \n",
    "            cv2.rectangle(frame_vga, (x, y), (x + w, y + h), (0, 0, 255), 2) \n",
    "            outframe[0:480,0:640,:] = frame_vga[0:480,0:640,:]\n",
    "            hdmi_out.writeframe(outframe) \n",
    "end = time.time()\n",
    "print(\"Frames per second:  \" + str(numframes / (end - start)))\n",
    "hdmi_out.close()\n",
    "videoIn.release()"
   ]
  },
  {
   "cell_type": "code",
   "execution_count": null,
   "metadata": {},
   "outputs": [],
   "source": []
  }
 ],
 "metadata": {
  "kernelspec": {
   "display_name": "Python 3",
   "language": "python",
   "name": "python3"
  },
  "language_info": {
   "codemirror_mode": {
    "name": "ipython",
    "version": 3
   },
   "file_extension": ".py",
   "mimetype": "text/x-python",
   "name": "python",
   "nbconvert_exporter": "python",
   "pygments_lexer": "ipython3",
   "version": "3.6.0"
  }
 },
 "nbformat": 4,
 "nbformat_minor": 1
}
